{
  "nbformat": 4,
  "nbformat_minor": 0,
  "metadata": {
    "colab": {
      "provenance": [],
      "authorship_tag": "ABX9TyMLCx8uS7uPXjoJqhItvccV",
      "include_colab_link": true
    },
    "kernelspec": {
      "name": "python3",
      "display_name": "Python 3"
    },
    "language_info": {
      "name": "python"
    }
  },
  "cells": [
    {
      "cell_type": "markdown",
      "metadata": {
        "id": "view-in-github",
        "colab_type": "text"
      },
      "source": [
        "<a href=\"https://colab.research.google.com/github/Arc1Wardenn/uuu/blob/main/Untitled11.ipynb\" target=\"_parent\"><img src=\"https://colab.research.google.com/assets/colab-badge.svg\" alt=\"Open In Colab\"/></a>"
      ]
    },
    {
      "cell_type": "code",
      "execution_count": null,
      "metadata": {
        "id": "hZcozeVTx9FM"
      },
      "outputs": [],
      "source": [
        "!git clone https://github.com/Arc1Wardenn/KT1.git"
      ]
    },
    {
      "cell_type": "code",
      "source": [
        "!mkdir Artem"
      ],
      "metadata": {
        "id": "vbGeBXwbx-qz"
      },
      "execution_count": null,
      "outputs": []
    },
    {
      "cell_type": "code",
      "source": [
        "%cd Artem"
      ],
      "metadata": {
        "id": "VS7RjQtGyA6o"
      },
      "execution_count": null,
      "outputs": []
    },
    {
      "cell_type": "code",
      "source": [
        "!touch Pimanov"
      ],
      "metadata": {
        "id": "qZsOP1kSyDuK"
      },
      "execution_count": null,
      "outputs": []
    },
    {
      "cell_type": "code",
      "source": [
        "git add .\n",
        "git commit -m \"Added 2.js\"\n",
        "git push"
      ],
      "metadata": {
        "id": "ZZm_0UuFymnV"
      },
      "execution_count": null,
      "outputs": []
    }
  ]
}